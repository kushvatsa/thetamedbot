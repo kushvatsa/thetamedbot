{
 "cells": [
  {
   "cell_type": "markdown",
   "metadata": {},
   "source": [
    "## Dataset\n",
    "The dataset is taken from the ISIC (International Skin Image Collaboration) Archive. It consists of 1800 pictures of benign moles and 1497 pictures of malignant classified moles. The pictures have all been resized to low resolution (224x224x3) RGB. The task of this kernel is to create a model, which can classify a mole visually into benign and malignant. \n",
    "\n",
    "As the dataset is pretty balanced, the model will be tested on the accuracy score, thus (TP + TN)/(ALL).\n",
    "\n",
    "It has 2 different classes of skin cancer which are listed below :<br>\n",
    "**1. Benign <br>**\n",
    "**2. Malignant <br>**"
   ]
  },
  {
   "cell_type": "code",
   "execution_count": 1,
   "metadata": {
    "_cell_guid": "b1076dfc-b9ad-4769-8c92-a6c4dae69d19",
    "_kg_hide-input": true,
    "_kg_hide-output": true,
    "_uuid": "8f2839f25d086af736a60e9eeb907d3b93b6e0e5"
   },
   "outputs": [
    {
     "name": "stderr",
     "output_type": "stream",
     "text": [
      "Using TensorFlow backend.\n"
     ]
    }
   ],
   "source": [
    "%matplotlib inline\n",
    "\n",
    "import os\n",
    "import gc\n",
    "from PIL import Image\n",
    "\n",
    "import tqdm\n",
    "import numpy as np\n",
    "import seaborn as sns\n",
    "import pandas as pd\n",
    "from matplotlib import pyplot as plt\n",
    "from keras.models import Sequential\n",
    "from sklearn.model_selection import train_test_split\n",
    "from keras.preprocessing.image import ImageDataGenerator\n",
    "from keras.layers import Dense, Conv2D, MaxPooling2D, Flatten, Dropout, LeakyReLU\n",
    "from keras.applications import VGG16\n",
    "from tensorflow import set_random_seed\n",
    "from sklearn.utils import check_random_state\n",
    "\n",
    "\n",
    "sns.set()\n",
    "np.random.seed(0);\n",
    "set_random_seed(0);\n",
    "check_random_state(0);"
   ]
  },
  {
   "cell_type": "markdown",
   "metadata": {},
   "source": [
    "## data upload\n",
    "\n",
    "The data consists of two folders of the two types of moles."
   ]
  },
  {
   "cell_type": "code",
   "execution_count": 2,
   "metadata": {
    "_cell_guid": "79c7e3d0-c299-4dcb-8224-4455121ee9b0",
    "_kg_hide-input": true,
    "_uuid": "d629ff2d2480ee46fbb7e2d37f6b5fab8052498a"
   },
   "outputs": [
    {
     "name": "stdout",
     "output_type": "stream",
     "text": [
      "Size of train set: 2637\n",
      "Size of test set: 660\n",
      "1800 benign labeled samples and 1497 malignant\n"
     ]
    }
   ],
   "source": [
    "\n",
    "#\n",
    "# Labels:\n",
    "# 0 -> benign\n",
    "# 1 -> malignant\n",
    "\n",
    "train_imgs, test_imgs = [], []\n",
    "train_labels, test_labels = [], []\n",
    "\n",
    "for img_path in os.listdir('../input/data/train/benign'):\n",
    "    train_imgs.append('../input/data/train/benign/' + img_path)\n",
    "    train_labels.append(0)\n",
    "    \n",
    "for img_path in os.listdir('../input/data/train/malignant'):\n",
    "    train_imgs.append('../input/data/train/malignant/' + img_path)\n",
    "    train_labels.append(1)\n",
    "    \n",
    "for img_path in os.listdir('../input/data/test/benign'):\n",
    "    test_imgs.append('../input/data/test/benign/' + img_path)\n",
    "    test_labels.append(0)\n",
    "    \n",
    "for img_path in os.listdir('../input/data/test/malignant'):\n",
    "    test_imgs.append('../input/data/test/malignant/' + img_path)\n",
    "    test_labels.append(1)\n",
    "    \n",
    "train_imgs, test_imgs = np.array(train_imgs), np.array(test_imgs)\n",
    "train_labels, test_labels = np.array(train_labels), np.array(test_labels)\n",
    "    \n",
    "class_distribution = np.bincount(np.concatenate([train_labels, test_labels]))\n",
    "    \n",
    "print('Size of train set:', len(train_imgs))\n",
    "print('Size of test set:', len(test_imgs))\n",
    "print(class_distribution[0], 'benign labeled samples and', class_distribution[1], 'malignant')"
   ]
  },
  {
   "cell_type": "markdown",
   "metadata": {},
   "source": [
    "## Data selection\n",
    "the whole set contains 3297 images. We split data so that test set is 20%, 15% is for val data."
   ]
  },
  {
   "cell_type": "code",
   "execution_count": 3,
   "metadata": {
    "_kg_hide-input": true
   },
   "outputs": [
    {
     "name": "stderr",
     "output_type": "stream",
     "text": [
      "100%|██████████| 2637/2637 [00:08<00:00, 297.92it/s]\n",
      "100%|██████████| 660/660 [00:02<00:00, 323.32it/s]\n"
     ]
    },
    {
     "name": "stdout",
     "output_type": "stream",
     "text": [
      "Shape of the new train set: (2109, 224, 224, 3)\n",
      "Shape of the new test set: (660, 224, 224, 3)\n",
      "Shape of the validation set: (528, 224, 224, 3)\n"
     ]
    }
   ],
   "source": [
    "# Load the images to memory\n",
    "xtrain, xtest = [], []\n",
    "ytrain, ytest = train_labels, test_labels\n",
    "\n",
    "for filename in tqdm.tqdm(train_imgs):\n",
    "    xtrain.append(np.array(Image.open(filename)))\n",
    "    \n",
    "for filename in tqdm.tqdm(test_imgs):\n",
    "    xtest.append(np.array(Image.open(filename)))\n",
    "    \n",
    "del train_imgs, test_imgs, train_labels, test_labels\n",
    "xtrain, xtest = np.array(xtrain), np.array(xtest)\n",
    "\n",
    "# Merge and split train and test set to have more train data\n",
    "data = np.concatenate([xtrain, xtest])\n",
    "labels = np.concatenate([ytrain, ytest])\n",
    "\n",
    "# Spliting data to train, validation and test values\n",
    "xtrain, xtest, ytrain, ytest = train_test_split(data, labels, test_size=.2, random_state=0)\n",
    "xtra, xval, ytra, yval = train_test_split(xtrain, ytrain, test_size=.2, random_state=0, shuffle=False)\n",
    "\n",
    "gc.collect()\n",
    "print('Shape of the new train set:', xtra.shape)\n",
    "print('Shape of the new test set:', xtest.shape)\n",
    "print('Shape of the validation set:', xval.shape)"
   ]
  },
  {
   "cell_type": "markdown",
   "metadata": {},
   "source": [
    "then we add augmented images to train data."
   ]
  },
  {
   "cell_type": "code",
   "execution_count": 5,
   "metadata": {},
   "outputs": [],
   "source": [
    "data_generator = ImageDataGenerator(rotation_range=90,\n",
    "                                    width_shift_range=0.15,\n",
    "                                    height_shift_range=0.15,\n",
    "                                    horizontal_flip=True,\n",
    "                                    vertical_flip=True,\n",
    "                                    brightness_range=[0.8, 1.1],\n",
    "                                    fill_mode='nearest')"
   ]
  },
  {
   "cell_type": "code",
   "execution_count": 6,
   "metadata": {
    "_kg_hide-input": false
   },
   "outputs": [
    {
     "name": "stdout",
     "output_type": "stream",
     "text": [
      "New number of training samples: 4218\n"
     ]
    }
   ],
   "source": [
    "new_samples, new_labels = next(data_generator.flow(xtra, ytra, batch_size=len(xtra)))\n",
    "xtra = np.concatenate([xtra, new_samples])\n",
    "ytra = np.concatenate([ytra, new_labels])\n",
    "\n",
    "del new_samples, new_labels\n",
    "print('New number of training samples:', len(xtra))"
   ]
  },
  {
   "cell_type": "markdown",
   "metadata": {},
   "source": [
    "Use the simple normalization technique where we just divide each pixel value by `255`."
   ]
  },
  {
   "cell_type": "code",
   "execution_count": 7,
   "metadata": {
    "_kg_hide-input": true
   },
   "outputs": [
    {
     "name": "stdout",
     "output_type": "stream",
     "text": [
      "Training data shape: (4218, 224, 224, 3)\n",
      "Min value: 0.0\n",
      "Max value: 1.0\n"
     ]
    }
   ],
   "source": [
    "# Normalizing values\n",
    "xtra = xtra.astype('float32') / 255.\n",
    "xtest = xtest.astype('float32') / 255.\n",
    "xval = xval.astype('float32') / 255.\n",
    "\n",
    "print('Training data shape:', xtra.shape)\n",
    "print('Min value:', xtra.min())\n",
    "print('Max value:', xtra.max())"
   ]
  },
  {
   "cell_type": "code",
   "execution_count": 8,
   "metadata": {},
   "outputs": [
    {
     "name": "stdout",
     "output_type": "stream",
     "text": [
      "Val data shape: (528, 224, 224, 3)\n"
     ]
    }
   ],
   "source": [
    "print('Test data shape:', xtest.shape)\n",
    "print('Val data shape:', xval.shape)"
   ]
  },
  {
   "cell_type": "code",
   "execution_count": 9,
   "metadata": {},
   "outputs": [],
   "source": [
    "del data"
   ]
  },
  {
   "cell_type": "code",
   "execution_count": 10,
   "metadata": {},
   "outputs": [],
   "source": [
    "del labels"
   ]
  },
  {
   "cell_type": "code",
   "execution_count": 12,
   "metadata": {},
   "outputs": [
    {
     "name": "stdout",
     "output_type": "stream",
     "text": [
      "Val data shape: (5406, 224, 224, 3)\n"
     ]
    }
   ],
   "source": [
    "X_tmp=np.concatenate([xtra, xtest,xval])\n",
    "Y_tmp=np.concatenate([ytra, ytest,yval])\n",
    "print(' data shape:', X_tmp.shape)"
   ]
  },
  {
   "cell_type": "code",
   "execution_count": 13,
   "metadata": {},
   "outputs": [],
   "source": [
    "del xval,xtest,xtra,ytra,ytest,yval"
   ]
  },
  {
   "cell_type": "code",
   "execution_count": 18,
   "metadata": {},
   "outputs": [],
   "source": [
    "train_x, test_x,train_y,test_y=train_test_split(X_tmp, Y_tmp, test_size=.2, random_state=101)"
   ]
  },
  {
   "cell_type": "markdown",
   "metadata": {},
   "source": [
    "## Building and training the model\n",
    "\n"
   ]
  },
  {
   "cell_type": "code",
   "execution_count": 19,
   "metadata": {
    "_kg_hide-input": true
   },
   "outputs": [
    {
     "name": "stdout",
     "output_type": "stream",
     "text": [
      "_________________________________________________________________\n",
      "Layer (type)                 Output Shape              Param #   \n",
      "=================================================================\n",
      "vgg16 (Model)                (None, 7, 7, 512)         14714688  \n",
      "_________________________________________________________________\n",
      "flatten_2 (Flatten)          (None, 25088)             0         \n",
      "_________________________________________________________________\n",
      "dense_4 (Dense)              (None, 32)                802848    \n",
      "_________________________________________________________________\n",
      "leaky_re_lu_3 (LeakyReLU)    (None, 32)                0         \n",
      "_________________________________________________________________\n",
      "dense_5 (Dense)              (None, 16)                528       \n",
      "_________________________________________________________________\n",
      "leaky_re_lu_4 (LeakyReLU)    (None, 16)                0         \n",
      "_________________________________________________________________\n",
      "dense_6 (Dense)              (None, 2)                 34        \n",
      "=================================================================\n",
      "Total params: 15,518,098\n",
      "Trainable params: 803,410\n",
      "Non-trainable params: 14,714,688\n",
      "_________________________________________________________________\n"
     ]
    }
   ],
   "source": [
    "\n",
    "# Build the model\n",
    "model = Sequential()\n",
    "\n",
    "model.add(VGG16(include_top=False, input_shape=(224, 224, 3,)))\n",
    "model.add(Flatten())\n",
    "model.add(Dense(32))\n",
    "model.add(LeakyReLU(0.001))\n",
    "model.add(Dense(16))\n",
    "model.add(LeakyReLU(0.001))\n",
    "model.add(Dense(2, activation='softmax'))\n",
    "model.layers[0].trainable = False\n",
    "\n",
    "model.compile(loss='sparse_categorical_crossentropy', optimizer='adam', metrics=['acc'])\n",
    "model.summary()"
   ]
  },
  {
   "cell_type": "markdown",
   "metadata": {},
   "source": [
    "### train the model."
   ]
  },
  {
   "cell_type": "markdown",
   "metadata": {},
   "source": [
    "##### testing another way of splitting data. Use chanks under #. This is just for testing."
   ]
  },
  {
   "cell_type": "code",
   "execution_count": 20,
   "metadata": {},
   "outputs": [
    {
     "name": "stdout",
     "output_type": "stream",
     "text": [
      "Train on 3459 samples, validate on 865 samples\n",
      "Epoch 1/30\n",
      "3459/3459 [==============================] - 12s 4ms/step - loss: 0.5622 - acc: 0.7395 - val_loss: 0.4137 - val_acc: 0.8012\n",
      "Epoch 2/30\n",
      "3459/3459 [==============================] - 11s 3ms/step - loss: 0.3514 - acc: 0.8439 - val_loss: 0.3951 - val_acc: 0.8335\n",
      "Epoch 3/30\n",
      "3459/3459 [==============================] - 11s 3ms/step - loss: 0.3278 - acc: 0.8583 - val_loss: 0.5612 - val_acc: 0.7283\n",
      "Epoch 4/30\n",
      "3459/3459 [==============================] - 11s 3ms/step - loss: 0.3028 - acc: 0.8690 - val_loss: 0.3889 - val_acc: 0.8335\n",
      "Epoch 5/30\n",
      "3459/3459 [==============================] - 11s 3ms/step - loss: 0.2563 - acc: 0.8907 - val_loss: 0.3814 - val_acc: 0.8405\n",
      "Epoch 6/30\n",
      "3459/3459 [==============================] - 11s 3ms/step - loss: 0.2468 - acc: 0.8962 - val_loss: 0.4390 - val_acc: 0.8139\n",
      "Epoch 7/30\n",
      "3459/3459 [==============================] - 11s 3ms/step - loss: 0.2574 - acc: 0.8849 - val_loss: 0.3906 - val_acc: 0.8358\n",
      "Epoch 8/30\n",
      "3459/3459 [==============================] - 11s 3ms/step - loss: 0.2024 - acc: 0.9185 - val_loss: 0.4299 - val_acc: 0.8301\n",
      "Epoch 9/30\n",
      "3459/3459 [==============================] - 11s 3ms/step - loss: 0.1996 - acc: 0.9196 - val_loss: 0.4337 - val_acc: 0.8277\n",
      "Epoch 10/30\n",
      "3459/3459 [==============================] - 11s 3ms/step - loss: 0.1814 - acc: 0.9277 - val_loss: 0.4728 - val_acc: 0.8266\n",
      "Epoch 11/30\n",
      "3459/3459 [==============================] - 11s 3ms/step - loss: 0.1740 - acc: 0.9318 - val_loss: 0.6289 - val_acc: 0.7988\n",
      "Epoch 12/30\n",
      "3459/3459 [==============================] - 11s 3ms/step - loss: 0.2276 - acc: 0.9005 - val_loss: 0.5118 - val_acc: 0.8092\n",
      "Epoch 13/30\n",
      "3459/3459 [==============================] - 11s 3ms/step - loss: 0.1484 - acc: 0.9404 - val_loss: 0.4924 - val_acc: 0.8266\n",
      "Epoch 14/30\n",
      "3459/3459 [==============================] - 11s 3ms/step - loss: 0.1653 - acc: 0.9332 - val_loss: 0.4766 - val_acc: 0.8254\n",
      "Epoch 15/30\n",
      "3459/3459 [==============================] - 11s 3ms/step - loss: 0.1390 - acc: 0.9448 - val_loss: 0.4987 - val_acc: 0.8289\n",
      "Epoch 16/30\n",
      "3459/3459 [==============================] - 11s 3ms/step - loss: 0.1265 - acc: 0.9511 - val_loss: 0.4824 - val_acc: 0.8254\n",
      "Epoch 17/30\n",
      "3459/3459 [==============================] - 11s 3ms/step - loss: 0.1201 - acc: 0.9558 - val_loss: 0.5369 - val_acc: 0.8301\n",
      "Epoch 18/30\n",
      "3459/3459 [==============================] - 11s 3ms/step - loss: 0.1218 - acc: 0.9523 - val_loss: 0.5323 - val_acc: 0.8220\n",
      "Epoch 19/30\n",
      "3459/3459 [==============================] - 11s 3ms/step - loss: 0.1147 - acc: 0.9589 - val_loss: 0.5576 - val_acc: 0.8197\n",
      "Epoch 20/30\n",
      "3459/3459 [==============================] - 11s 3ms/step - loss: 0.1013 - acc: 0.9644 - val_loss: 0.5552 - val_acc: 0.8185\n",
      "Epoch 21/30\n",
      "3459/3459 [==============================] - 11s 3ms/step - loss: 0.0815 - acc: 0.9748 - val_loss: 0.6093 - val_acc: 0.8127\n",
      "Epoch 22/30\n",
      "3459/3459 [==============================] - 11s 3ms/step - loss: 0.1052 - acc: 0.9587 - val_loss: 0.7528 - val_acc: 0.7861\n",
      "Epoch 23/30\n",
      "3459/3459 [==============================] - 11s 3ms/step - loss: 0.0901 - acc: 0.9644 - val_loss: 0.6281 - val_acc: 0.8254\n",
      "Epoch 24/30\n",
      "3459/3459 [==============================] - 11s 3ms/step - loss: 0.0696 - acc: 0.9777 - val_loss: 0.6116 - val_acc: 0.8104\n",
      "Epoch 25/30\n",
      "3459/3459 [==============================] - 11s 3ms/step - loss: 0.0651 - acc: 0.9763 - val_loss: 0.6326 - val_acc: 0.8104\n",
      "Epoch 26/30\n",
      "3459/3459 [==============================] - 11s 3ms/step - loss: 0.0592 - acc: 0.9827 - val_loss: 0.7256 - val_acc: 0.8220\n",
      "Epoch 27/30\n",
      "3459/3459 [==============================] - 11s 3ms/step - loss: 0.0550 - acc: 0.9824 - val_loss: 0.7288 - val_acc: 0.8220\n",
      "Epoch 28/30\n",
      "3459/3459 [==============================] - 11s 3ms/step - loss: 0.0553 - acc: 0.9824 - val_loss: 0.8337 - val_acc: 0.8000\n",
      "Epoch 29/30\n",
      "3459/3459 [==============================] - 11s 3ms/step - loss: 0.0795 - acc: 0.9696 - val_loss: 0.7078 - val_acc: 0.8104\n",
      "Epoch 30/30\n",
      "3459/3459 [==============================] - 11s 3ms/step - loss: 0.0421 - acc: 0.9893 - val_loss: 0.8075 - val_acc: 0.8173\n"
     ]
    }
   ],
   "source": [
    "# Train the model\n",
    "N_EPOCHS = 30\n",
    "h = model.fit(train_x, train_y, validation_split=0.2, epochs=N_EPOCHS, batch_size=64,shuffle=True)"
   ]
  },
  {
   "cell_type": "code",
   "execution_count": 21,
   "metadata": {},
   "outputs": [
    {
     "name": "stdout",
     "output_type": "stream",
     "text": [
      "1082/1082 [==============================] - 3s 3ms/step\n",
      "Accuracy on test set: 0.8373382629175944\n"
     ]
    }
   ],
   "source": [
    "print('Accuracy on test set:', model.evaluate(test_x, test_y)[1])"
   ]
  },
  {
   "cell_type": "code",
   "execution_count": null,
   "metadata": {
    "_kg_hide-input": true
   },
   "outputs": [],
   "source": [
    "# Train the model\n",
    "#N_EPOCHS = 30\n",
    "#h = model.fit(xtra, ytra, validation_data=(xval, yval), epochs=N_EPOCHS, batch_size=64,shuffle=True)"
   ]
  },
  {
   "cell_type": "markdown",
   "metadata": {},
   "source": [
    "Visualizing the accuracy and losses to check if the model is overfit."
   ]
  },
  {
   "cell_type": "code",
   "execution_count": null,
   "metadata": {
    "_kg_hide-input": true
   },
   "outputs": [],
   "source": [
    "# Plotting accuracy history\n",
    "plt.figure(figsize=(15, 8))\n",
    "plt.scatter(range(N_EPOCHS), h.history['acc'], marker='x', label='Training accuracy');\n",
    "plt.plot(range(N_EPOCHS), h.history['val_acc'], color='green', label='Validation accuracy');\n",
    "plt.legend();\n",
    "plt.title('Accuracy');\n",
    "\n",
    "# Plotting loss history\n",
    "plt.figure(figsize=(15, 8))\n",
    "plt.scatter(range(N_EPOCHS), h.history['loss'], marker='x', label='Training loss');\n",
    "plt.plot(range(N_EPOCHS), h.history['val_loss'], color='green', label='Validation loss');\n",
    "plt.legend();\n",
    "plt.title('Loss');"
   ]
  },
  {
   "cell_type": "markdown",
   "metadata": {},
   "source": [
    "Evaluate the model on test data to double check it's accuracy, and save it."
   ]
  },
  {
   "cell_type": "code",
   "execution_count": null,
   "metadata": {
    "_kg_hide-input": true
   },
   "outputs": [],
   "source": [
    "print('Accuracy on test set:', model.evaluate(xtest, ytest)[1])\n",
    "#model.save('skin_cancer_final.h5')"
   ]
  },
  {
   "cell_type": "markdown",
   "metadata": {},
   "source": [
    "## Cross-validation:\n",
    "    "
   ]
  },
  {
   "cell_type": "code",
   "execution_count": 16,
   "metadata": {},
   "outputs": [
    {
     "name": "stdout",
     "output_type": "stream",
     "text": [
      "Epoch 1/30\n",
      "4324/4324 [==============================] - 18s 4ms/step - loss: 0.5680 - acc: 0.7359\n",
      "Epoch 2/30\n",
      "4324/4324 [==============================] - 13s 3ms/step - loss: 0.3768 - acc: 0.8340\n",
      "Epoch 3/30\n",
      "4324/4324 [==============================] - 14s 3ms/step - loss: 0.3250 - acc: 0.8550\n",
      "Epoch 4/30\n",
      "4324/4324 [==============================] - 13s 3ms/step - loss: 0.2817 - acc: 0.8742\n",
      "Epoch 5/30\n",
      "4324/4324 [==============================] - 14s 3ms/step - loss: 0.2491 - acc: 0.8934\n",
      "Epoch 6/30\n",
      "4324/4324 [==============================] - 14s 3ms/step - loss: 0.2538 - acc: 0.8888\n",
      "Epoch 7/30\n",
      "4324/4324 [==============================] - 13s 3ms/step - loss: 0.2144 - acc: 0.9052\n",
      "Epoch 8/30\n",
      "4324/4324 [==============================] - 13s 3ms/step - loss: 0.1888 - acc: 0.9191\n",
      "Epoch 9/30\n",
      "4324/4324 [==============================] - 13s 3ms/step - loss: 0.2182 - acc: 0.9022\n",
      "Epoch 10/30\n",
      "4324/4324 [==============================] - 14s 3ms/step - loss: 0.1608 - acc: 0.9341\n",
      "Epoch 11/30\n",
      "4324/4324 [==============================] - 13s 3ms/step - loss: 0.1711 - acc: 0.9288\n",
      "Epoch 12/30\n",
      "4324/4324 [==============================] - 13s 3ms/step - loss: 0.1336 - acc: 0.9491\n",
      "Epoch 13/30\n",
      "4324/4324 [==============================] - 13s 3ms/step - loss: 0.1222 - acc: 0.9537\n",
      "Epoch 14/30\n",
      "4324/4324 [==============================] - 14s 3ms/step - loss: 0.1151 - acc: 0.9568\n",
      "Epoch 15/30\n",
      "4324/4324 [==============================] - 14s 3ms/step - loss: 0.1434 - acc: 0.9396\n",
      "Epoch 16/30\n",
      "4324/4324 [==============================] - 13s 3ms/step - loss: 0.1102 - acc: 0.9591\n",
      "Epoch 17/30\n",
      "4324/4324 [==============================] - 13s 3ms/step - loss: 0.0837 - acc: 0.9741\n",
      "Epoch 18/30\n",
      "4324/4324 [==============================] - 14s 3ms/step - loss: 0.0828 - acc: 0.9713\n",
      "Epoch 19/30\n",
      "4324/4324 [==============================] - 14s 3ms/step - loss: 0.0827 - acc: 0.9713\n",
      "Epoch 20/30\n",
      "4324/4324 [==============================] - 13s 3ms/step - loss: 0.0631 - acc: 0.9810\n",
      "Epoch 21/30\n",
      "4324/4324 [==============================] - 13s 3ms/step - loss: 0.1001 - acc: 0.9600\n",
      "Epoch 22/30\n",
      "4324/4324 [==============================] - 13s 3ms/step - loss: 0.0638 - acc: 0.9783\n",
      "Epoch 23/30\n",
      "4324/4324 [==============================] - 14s 3ms/step - loss: 0.0456 - acc: 0.9884\n",
      "Epoch 24/30\n",
      "4324/4324 [==============================] - 14s 3ms/step - loss: 0.0552 - acc: 0.9810\n",
      "Epoch 25/30\n",
      "4324/4324 [==============================] - 13s 3ms/step - loss: 0.0497 - acc: 0.9854\n",
      "Epoch 26/30\n",
      "4324/4324 [==============================] - 13s 3ms/step - loss: 0.0360 - acc: 0.9910\n",
      "Epoch 27/30\n",
      "4324/4324 [==============================] - 14s 3ms/step - loss: 0.0822 - acc: 0.9674\n",
      "Epoch 28/30\n",
      "4324/4324 [==============================] - 14s 3ms/step - loss: 0.0319 - acc: 0.9903\n",
      "Epoch 29/30\n",
      "4324/4324 [==============================] - 13s 3ms/step - loss: 0.0229 - acc: 0.9949\n",
      "Epoch 30/30\n",
      "4324/4324 [==============================] - 13s 3ms/step - loss: 0.0204 - acc: 0.9972\n",
      "1082/1082 [==============================] - 4s 4ms/step\n",
      "0.8585951941952027\n",
      "Epoch 1/30\n",
      "4325/4325 [==============================] - 13s 3ms/step - loss: 0.2091 - acc: 0.9334\n",
      "Epoch 2/30\n",
      "4325/4325 [==============================] - 12s 3ms/step - loss: 0.1420 - acc: 0.9494\n",
      "Epoch 3/30\n",
      "4325/4325 [==============================] - 13s 3ms/step - loss: 0.0990 - acc: 0.9658\n",
      "Epoch 4/30\n",
      "4325/4325 [==============================] - 13s 3ms/step - loss: 0.0811 - acc: 0.9695\n",
      "Epoch 5/30\n",
      "4325/4325 [==============================] - 13s 3ms/step - loss: 0.0616 - acc: 0.9787: 3s - loss: \n",
      "Epoch 6/30\n",
      "4325/4325 [==============================] - 14s 3ms/step - loss: 0.0554 - acc: 0.9815\n",
      "Epoch 7/30\n",
      "4325/4325 [==============================] - 13s 3ms/step - loss: 0.0456 - acc: 0.9873\n",
      "Epoch 8/30\n",
      "4325/4325 [==============================] - 14s 3ms/step - loss: 0.0592 - acc: 0.9790\n",
      "Epoch 9/30\n",
      "4325/4325 [==============================] - 13s 3ms/step - loss: 0.0403 - acc: 0.9889\n",
      "Epoch 10/30\n",
      "4325/4325 [==============================] - 14s 3ms/step - loss: 0.0339 - acc: 0.9901\n",
      "Epoch 11/30\n",
      "4325/4325 [==============================] - 14s 3ms/step - loss: 0.0653 - acc: 0.9750\n",
      "Epoch 12/30\n",
      "4325/4325 [==============================] - 13s 3ms/step - loss: 0.0384 - acc: 0.9875\n",
      "Epoch 13/30\n",
      "4325/4325 [==============================] - 13s 3ms/step - loss: 0.0254 - acc: 0.9949\n",
      "Epoch 14/30\n",
      "4325/4325 [==============================] - 13s 3ms/step - loss: 0.0223 - acc: 0.9956\n",
      "Epoch 15/30\n",
      "4325/4325 [==============================] - 14s 3ms/step - loss: 0.0195 - acc: 0.9951\n",
      "Epoch 16/30\n",
      "4325/4325 [==============================] - 13s 3ms/step - loss: 0.0150 - acc: 0.9975\n",
      "Epoch 17/30\n",
      "4325/4325 [==============================] - 13s 3ms/step - loss: 0.0133 - acc: 0.9979\n",
      "Epoch 18/30\n",
      "4325/4325 [==============================] - 14s 3ms/step - loss: 0.0125 - acc: 0.9982\n",
      "Epoch 19/30\n",
      "4325/4325 [==============================] - 14s 3ms/step - loss: 0.0602 - acc: 0.9815\n",
      "Epoch 20/30\n",
      "4325/4325 [==============================] - 14s 3ms/step - loss: 0.0595 - acc: 0.9792: 1s - loss: 0.0616 - ac\n",
      "Epoch 21/30\n",
      "4325/4325 [==============================] - 13s 3ms/step - loss: 0.0175 - acc: 0.9956: 2s - loss: 0.0194 - \n",
      "Epoch 22/30\n",
      "4325/4325 [==============================] - 14s 3ms/step - loss: 0.0125 - acc: 0.9972\n",
      "Epoch 23/30\n",
      "4325/4325 [==============================] - 14s 3ms/step - loss: 0.0095 - acc: 0.9986\n",
      "Epoch 24/30\n",
      "4325/4325 [==============================] - 14s 3ms/step - loss: 0.0101 - acc: 0.9984\n",
      "Epoch 25/30\n",
      "4325/4325 [==============================] - 14s 3ms/step - loss: 0.0315 - acc: 0.9871\n",
      "Epoch 26/30\n",
      "4325/4325 [==============================] - 13s 3ms/step - loss: 0.0263 - acc: 0.9889\n",
      "Epoch 27/30\n",
      "4325/4325 [==============================] - 14s 3ms/step - loss: 0.0126 - acc: 0.9975\n",
      "Epoch 28/30\n",
      "4325/4325 [==============================] - 14s 3ms/step - loss: 0.0149 - acc: 0.9963\n",
      "Epoch 29/30\n",
      "4325/4325 [==============================] - 13s 3ms/step - loss: 0.0100 - acc: 0.9977\n",
      "Epoch 30/30\n",
      "4325/4325 [==============================] - 14s 3ms/step - loss: 0.0055 - acc: 0.9993\n",
      "1081/1081 [==============================] - 3s 3ms/step\n",
      "0.9130434777646237\n",
      "Epoch 1/30\n",
      "4325/4325 [==============================] - 12s 3ms/step - loss: 0.1088 - acc: 0.9655\n",
      "Epoch 2/30\n",
      "4325/4325 [==============================] - 14s 3ms/step - loss: 0.0557 - acc: 0.9780\n",
      "Epoch 3/30\n",
      "4325/4325 [==============================] - 13s 3ms/step - loss: 0.0284 - acc: 0.9891\n",
      "Epoch 4/30\n",
      "4325/4325 [==============================] - 14s 3ms/step - loss: 0.0174 - acc: 0.9938\n",
      "Epoch 5/30\n",
      "4325/4325 [==============================] - 13s 3ms/step - loss: 0.0609 - acc: 0.9773\n",
      "Epoch 6/30\n",
      "4325/4325 [==============================] - 13s 3ms/step - loss: 0.0144 - acc: 0.9954\n",
      "Epoch 7/30\n",
      "4325/4325 [==============================] - 14s 3ms/step - loss: 0.0103 - acc: 0.9979\n",
      "Epoch 8/30\n",
      "4325/4325 [==============================] - 13s 3ms/step - loss: 0.0106 - acc: 0.9979\n",
      "Epoch 9/30\n",
      "4325/4325 [==============================] - 13s 3ms/step - loss: 0.0065 - acc: 0.9991\n",
      "Epoch 10/30\n",
      "4325/4325 [==============================] - 13s 3ms/step - loss: 0.0049 - acc: 0.9995\n",
      "Epoch 11/30\n",
      "4325/4325 [==============================] - 14s 3ms/step - loss: 0.0057 - acc: 0.9988\n",
      "Epoch 12/30\n",
      "4325/4325 [==============================] - 13s 3ms/step - loss: 0.0067 - acc: 0.9991\n",
      "Epoch 13/30\n",
      "4325/4325 [==============================] - 14s 3ms/step - loss: 0.0052 - acc: 0.9995\n",
      "Epoch 14/30\n",
      "4325/4325 [==============================] - 13s 3ms/step - loss: 0.0034 - acc: 1.0000: 0s - loss: 0.0034 - acc: 1.000\n",
      "Epoch 15/30\n",
      "4325/4325 [==============================] - 14s 3ms/step - loss: 0.0054 - acc: 0.9995\n",
      "Epoch 16/30\n",
      "4325/4325 [==============================] - 14s 3ms/step - loss: 0.0031 - acc: 1.0000\n",
      "Epoch 17/30\n",
      "4325/4325 [==============================] - 13s 3ms/step - loss: 0.0025 - acc: 1.0000\n",
      "Epoch 18/30\n",
      "4325/4325 [==============================] - 13s 3ms/step - loss: 0.0024 - acc: 1.0000\n",
      "Epoch 19/30\n",
      "4325/4325 [==============================] - 13s 3ms/step - loss: 0.0024 - acc: 1.0000\n",
      "Epoch 20/30\n",
      "4325/4325 [==============================] - 14s 3ms/step - loss: 0.0021 - acc: 1.0000\n",
      "Epoch 21/30\n",
      "4325/4325 [==============================] - 13s 3ms/step - loss: 0.0021 - acc: 1.0000\n",
      "Epoch 22/30\n",
      "4325/4325 [==============================] - 13s 3ms/step - loss: 0.0023 - acc: 1.0000\n",
      "Epoch 23/30\n",
      "4325/4325 [==============================] - 14s 3ms/step - loss: 0.0021 - acc: 1.0000\n",
      "Epoch 24/30\n",
      "4325/4325 [==============================] - 14s 3ms/step - loss: 0.0049 - acc: 0.9988\n",
      "Epoch 25/30\n",
      "4325/4325 [==============================] - 14s 3ms/step - loss: 0.2200 - acc: 0.9302\n",
      "Epoch 26/30\n",
      "4325/4325 [==============================] - 13s 3ms/step - loss: 0.0279 - acc: 0.9954\n",
      "Epoch 27/30\n",
      "4325/4325 [==============================] - 13s 3ms/step - loss: 0.0211 - acc: 0.9958\n",
      "Epoch 28/30\n",
      "4325/4325 [==============================] - 13s 3ms/step - loss: 0.0120 - acc: 0.9993\n",
      "Epoch 29/30\n",
      "4325/4325 [==============================] - 14s 3ms/step - loss: 0.0122 - acc: 0.9984\n",
      "Epoch 30/30\n",
      "4325/4325 [==============================] - 14s 3ms/step - loss: 0.0089 - acc: 0.9998\n",
      "1081/1081 [==============================] - 3s 3ms/step\n",
      "0.9953746530989824\n",
      "Epoch 1/30\n",
      "4325/4325 [==============================] - 12s 3ms/step - loss: 0.0195 - acc: 0.9956\n",
      "Epoch 2/30\n",
      "4325/4325 [==============================] - 14s 3ms/step - loss: 0.0273 - acc: 0.9901\n",
      "Epoch 3/30\n",
      "4325/4325 [==============================] - 14s 3ms/step - loss: 0.0125 - acc: 0.9984\n",
      "Epoch 4/30\n",
      "4325/4325 [==============================] - 14s 3ms/step - loss: 0.0087 - acc: 0.9998\n",
      "Epoch 5/30\n",
      "4325/4325 [==============================] - 13s 3ms/step - loss: 0.0059 - acc: 1.0000\n",
      "Epoch 6/30\n",
      "4325/4325 [==============================] - 13s 3ms/step - loss: 0.0051 - acc: 0.9998\n",
      "Epoch 7/30\n",
      "4325/4325 [==============================] - 14s 3ms/step - loss: 0.0037 - acc: 1.0000\n",
      "Epoch 8/30\n",
      "4325/4325 [==============================] - 13s 3ms/step - loss: 0.0029 - acc: 1.0000\n",
      "Epoch 9/30\n",
      "4325/4325 [==============================] - 14s 3ms/step - loss: 0.0026 - acc: 1.0000\n",
      "Epoch 10/30\n",
      "4325/4325 [==============================] - 13s 3ms/step - loss: 0.0026 - acc: 1.0000\n",
      "Epoch 11/30\n",
      "4325/4325 [==============================] - 14s 3ms/step - loss: 0.0022 - acc: 1.0000\n",
      "Epoch 12/30\n",
      "4325/4325 [==============================] - 14s 3ms/step - loss: 0.0020 - acc: 1.0000\n",
      "Epoch 13/30\n",
      "4325/4325 [==============================] - 13s 3ms/step - loss: 0.0018 - acc: 1.0000: 2s - loss: 0.001\n",
      "Epoch 14/30\n",
      "4325/4325 [==============================] - 13s 3ms/step - loss: 0.0016 - acc: 1.0000\n",
      "Epoch 15/30\n",
      "4325/4325 [==============================] - 13s 3ms/step - loss: 0.0017 - acc: 1.0000\n",
      "Epoch 16/30\n",
      "4325/4325 [==============================] - 14s 3ms/step - loss: 0.0015 - acc: 1.0000\n",
      "Epoch 17/30\n",
      "4325/4325 [==============================] - 14s 3ms/step - loss: 0.0013 - acc: 1.0000\n",
      "Epoch 18/30\n",
      "4325/4325 [==============================] - 13s 3ms/step - loss: 0.0012 - acc: 1.0000\n",
      "Epoch 19/30\n",
      "4325/4325 [==============================] - 13s 3ms/step - loss: 0.0015 - acc: 1.0000\n",
      "Epoch 20/30\n",
      "4325/4325 [==============================] - 14s 3ms/step - loss: 8.5717e-04 - acc: 1.0000\n",
      "Epoch 21/30\n",
      "4325/4325 [==============================] - 14s 3ms/step - loss: 6.8152e-04 - acc: 1.0000\n",
      "Epoch 22/30\n",
      "4325/4325 [==============================] - 13s 3ms/step - loss: 5.7892e-04 - acc: 1.0000\n",
      "Epoch 23/30\n",
      "4325/4325 [==============================] - 14s 3ms/step - loss: 5.3791e-04 - acc: 1.0000\n",
      "Epoch 24/30\n",
      "4325/4325 [==============================] - 13s 3ms/step - loss: 4.8834e-04 - acc: 1.0000\n",
      "Epoch 25/30\n",
      "4325/4325 [==============================] - 14s 3ms/step - loss: 4.0942e-04 - acc: 1.0000\n",
      "Epoch 26/30\n",
      "4325/4325 [==============================] - 13s 3ms/step - loss: 3.9803e-04 - acc: 1.0000\n",
      "Epoch 27/30\n",
      "4325/4325 [==============================] - 13s 3ms/step - loss: 3.4521e-04 - acc: 1.0000\n",
      "Epoch 28/30\n",
      "4325/4325 [==============================] - 13s 3ms/step - loss: 3.0012e-04 - acc: 1.0000\n",
      "Epoch 29/30\n",
      "4325/4325 [==============================] - 14s 3ms/step - loss: 3.6042e-04 - acc: 1.0000\n",
      "Epoch 30/30\n",
      "4325/4325 [==============================] - 14s 3ms/step - loss: 2.4546e-04 - acc: 1.0000\n",
      "1081/1081 [==============================] - 3s 3ms/step\n",
      "1.0\n",
      "Epoch 1/30\n",
      "4325/4325 [==============================] - 12s 3ms/step - loss: 4.3911e-04 - acc: 1.0000\n",
      "Epoch 2/30\n",
      "4325/4325 [==============================] - 13s 3ms/step - loss: 2.5110e-04 - acc: 1.0000\n",
      "Epoch 3/30\n",
      "4325/4325 [==============================] - 13s 3ms/step - loss: 4.4774e-04 - acc: 1.0000\n",
      "Epoch 4/30\n",
      "4325/4325 [==============================] - 14s 3ms/step - loss: 1.8492e-04 - acc: 1.0000\n",
      "Epoch 5/30\n",
      "4325/4325 [==============================] - 13s 3ms/step - loss: 1.6623e-04 - acc: 1.0000\n",
      "Epoch 6/30\n",
      "4325/4325 [==============================] - 13s 3ms/step - loss: 1.5222e-04 - acc: 1.0000\n",
      "Epoch 7/30\n",
      "4325/4325 [==============================] - 13s 3ms/step - loss: 1.5892e-04 - acc: 1.0000\n",
      "Epoch 8/30\n",
      "4325/4325 [==============================] - 14s 3ms/step - loss: 1.2886e-04 - acc: 1.0000\n",
      "Epoch 9/30\n",
      "4325/4325 [==============================] - 14s 3ms/step - loss: 1.1810e-04 - acc: 1.0000\n",
      "Epoch 10/30\n",
      "4325/4325 [==============================] - 14s 3ms/step - loss: 1.1484e-04 - acc: 1.0000\n",
      "Epoch 11/30\n",
      "4325/4325 [==============================] - 13s 3ms/step - loss: 1.4527e-04 - acc: 1.0000\n",
      "Epoch 12/30\n",
      "4325/4325 [==============================] - 14s 3ms/step - loss: 8.8465e-05 - acc: 1.0000\n",
      "Epoch 13/30\n",
      "4325/4325 [==============================] - 14s 3ms/step - loss: 8.6923e-05 - acc: 1.0000\n",
      "Epoch 14/30\n",
      "4325/4325 [==============================] - 13s 3ms/step - loss: 7.8432e-05 - acc: 1.0000\n",
      "Epoch 15/30\n",
      "4325/4325 [==============================] - 14s 3ms/step - loss: 7.4801e-05 - acc: 1.0000\n",
      "Epoch 16/30\n",
      "4325/4325 [==============================] - 13s 3ms/step - loss: 6.8286e-05 - acc: 1.0000\n",
      "Epoch 17/30\n",
      "4325/4325 [==============================] - 14s 3ms/step - loss: 6.4608e-05 - acc: 1.0000\n",
      "Epoch 18/30\n",
      "4325/4325 [==============================] - 13s 3ms/step - loss: 6.2588e-05 - acc: 1.0000\n",
      "Epoch 19/30\n",
      "4325/4325 [==============================] - 14s 3ms/step - loss: 6.4679e-05 - acc: 1.0000\n",
      "Epoch 20/30\n",
      "4325/4325 [==============================] - 13s 3ms/step - loss: 5.2884e-05 - acc: 1.0000\n",
      "Epoch 21/30\n",
      "4325/4325 [==============================] - 14s 3ms/step - loss: 5.3340e-05 - acc: 1.0000\n",
      "Epoch 22/30\n",
      "4325/4325 [==============================] - 14s 3ms/step - loss: 4.8607e-05 - acc: 1.0000\n",
      "Epoch 23/30\n",
      "4325/4325 [==============================] - 14s 3ms/step - loss: 4.5828e-05 - acc: 1.0000\n",
      "Epoch 24/30\n",
      "4325/4325 [==============================] - 14s 3ms/step - loss: 4.1269e-05 - acc: 1.0000\n",
      "Epoch 25/30\n",
      "4325/4325 [==============================] - 13s 3ms/step - loss: 4.7423e-05 - acc: 1.0000\n",
      "Epoch 26/30\n",
      "4325/4325 [==============================] - 14s 3ms/step - loss: 4.3581e-05 - acc: 1.0000\n",
      "Epoch 27/30\n",
      "4325/4325 [==============================] - 14s 3ms/step - loss: 3.5621e-05 - acc: 1.0000\n",
      "Epoch 28/30\n",
      "4325/4325 [==============================] - 13s 3ms/step - loss: 3.4175e-05 - acc: 1.0000\n",
      "Epoch 29/30\n",
      "4325/4325 [==============================] - 14s 3ms/step - loss: 3.3279e-05 - acc: 1.0000\n",
      "Epoch 30/30\n",
      "4325/4325 [==============================] - 14s 3ms/step - loss: 3.0490e-05 - acc: 1.0000\n",
      "1081/1081 [==============================] - 3s 3ms/step\n",
      "1.0\n"
     ]
    }
   ],
   "source": [
    "\n",
    "from sklearn.model_selection import KFold\n",
    "from sklearn.model_selection import cross_val_score\n",
    "kf = KFold(n_splits=5) # Define the split - into 5 folds \n",
    "\n",
    "kf.get_n_splits(X_tmp) # returns the number of splitting iterations in the cross-validator\n",
    "scores=[]\n",
    "for train_index, test_index in kf.split(X_tmp):\n",
    "    X_train, X_test = X_tmp[train_index], X_tmp[test_index]\n",
    "    y_train, y_test = Y_tmp[train_index], Y_tmp[test_index]\n",
    "    model.fit(X_train,y_train,epochs=30, batch_size=64,shuffle=True)\n",
    "    score=model.evaluate(X_test,y_test)[1]\n",
    "    print(score)\n",
    "    scores.append(score)\n",
    "    del X_train, X_test, y_train, y_test\n",
    "\n"
   ]
  },
  {
   "cell_type": "code",
   "execution_count": 17,
   "metadata": {},
   "outputs": [
    {
     "data": {
      "text/plain": [
       "0.9534026650117617"
      ]
     },
     "execution_count": 17,
     "metadata": {},
     "output_type": "execute_result"
    }
   ],
   "source": [
    "np.array(scores).mean()"
   ]
  }
 ],
 "metadata": {
  "kernelspec": {
   "display_name": "Python 3",
   "language": "python",
   "name": "python3"
  },
  "language_info": {
   "codemirror_mode": {
    "name": "ipython",
    "version": 3
   },
   "file_extension": ".py",
   "mimetype": "text/x-python",
   "name": "python",
   "nbconvert_exporter": "python",
   "pygments_lexer": "ipython3",
   "version": "3.8.3"
  }
 },
 "nbformat": 4,
 "nbformat_minor": 4
}
